{
 "cells": [
  {
   "cell_type": "code",
   "execution_count": 2,
   "metadata": {
    "id": "zYQci0UAzlDI"
   },
   "outputs": [],
   "source": [
    "import pandas as pd\n",
    "import numpy as np\n",
    "from sklearn.preprocessing import MultiLabelBinarizer, TargetEncoder\n",
    "from sklearn.model_selection import train_test_split"
   ]
  },
  {
   "cell_type": "code",
   "execution_count": 3,
   "metadata": {
    "id": "3G1Q19Rezs9B"
   },
   "outputs": [],
   "source": [
    "df_train = pd.read_csv('train.csv')\n",
    "X, y = df_train.drop(['SalePrice', 'Id'], axis=1), df_train.SalePrice\n",
    "df_test = pd.read_csv('test.csv')"
   ]
  },
  {
   "cell_type": "markdown",
   "metadata": {
    "id": "0Vg6QCgLohMV"
   },
   "source": [
    "###Класс для подготовки данных:"
   ]
  },
  {
   "cell_type": "code",
   "execution_count": 4,
   "metadata": {
    "id": "g1l10rULzuCo"
   },
   "outputs": [],
   "source": [
    "class Data():\n",
    "    \"\"\"\n",
    "    Класс для подготовки датасета к обучению/тестированию.\n",
    "    Включает в себя генерацию признаков, заполнение пропусков.\n",
    "    \"\"\"\n",
    "\n",
    "    def __init__(self, data: pd.DataFrame, is_train: bool=True):\n",
    "        self.data = data.copy()\n",
    "        self.is_train = is_train\n",
    "\n",
    "        self.categorical = self.data.select_dtypes(exclude='number').columns\n",
    "        self.numerical = self.data.select_dtypes(exclude='object').columns\n",
    "\n",
    "        #ниже перечислены вещественные признаки,\n",
    "        #которые будут переведены в бинарные\n",
    "        self.zero_threshold       =   ['OpenPorchSF',\n",
    "                                      'EnclosedPorch',\n",
    "                                      '3SsnPorch',\n",
    "                                      'ScreenPorch',\n",
    "                                      'LowQualFinSF']\n",
    "\n",
    "        self.one_threshold        =   'KitchenAbvGr'\n",
    "\n",
    "\n",
    "        self.mlb = MultiLabelBinarizer()\n",
    "        self.mlb.fit(df_train[['BsmtFinType1',\n",
    "                               'BsmtFinType2',\n",
    "                               'Exterior1st',\n",
    "                               'Exterior2nd']]\\\n",
    "                .fillna('NO').to_numpy())\n",
    "\n",
    "\n",
    "    def _QC_encoder(self, qual: str) -> int:\n",
    "        \"\"\"\n",
    "        Метод для кодировки порядкого значения качества (str)\n",
    "        в целое число.\n",
    "        \"\"\"\n",
    "\n",
    "        qc = {\n",
    "            'Po': 1,\n",
    "            'Fa': 2,\n",
    "            'TA': 3,\n",
    "            'Gd': 4,\n",
    "            'Ex': 5\n",
    "        }\n",
    "\n",
    "        if qual not in qc:\n",
    "            return 0\n",
    "        return qc[qual]\n",
    "\n",
    "\n",
    "    def _encode_exposure(self, value: str) -> int:\n",
    "        \"\"\"\n",
    "        Метод для кодировки порядкого значения (str) с 3 вариантами\n",
    "        в целое число.\n",
    "        \"\"\"\n",
    "\n",
    "        qc = {\n",
    "              'Mn': 1,\n",
    "              'Av': 2,\n",
    "              'Gd': 3\n",
    "          }\n",
    "\n",
    "        if value not in qc:\n",
    "            return 0\n",
    "        return qc[value]\n",
    "\n",
    "\n",
    "    def _encode_garage(self, value: str) -> int:\n",
    "        \"\"\"\n",
    "        Метод для кодировки порядкого значения (str)\n",
    "        степени завершенности гаража в целое число.\n",
    "        \"\"\"\n",
    "\n",
    "        encoder = {\n",
    "            'Unf': 1,\n",
    "            'RFn': 2,\n",
    "            'Fin': 3\n",
    "        }\n",
    "\n",
    "        if value not in encoder:\n",
    "            return 0\n",
    "        return encoder[value]\n",
    "\n",
    "\n",
    "    def _multilabel(self):\n",
    "        \"\"\"\n",
    "        Метод превращает признаки, которые могут содержать одновременно\n",
    "        больше одной категории, в вектор из признаков, значения которых\n",
    "        равны 0 или 1.\n",
    "        \"\"\"\n",
    "\n",
    "        self.data[self.mlb.classes_] = \\\n",
    "        self.mlb.transform(\n",
    "            self.data[['BsmtFinType1',\n",
    "                       'BsmtFinType2',\n",
    "                       'Exterior1st',\n",
    "                       'Exterior2nd']].to_numpy())\n",
    "\n",
    "        self.data.drop(['BsmtFinType1',\n",
    "                        'BsmtFinType2',\n",
    "                        'Exterior1st',\n",
    "                        'Exterior2nd'], axis=1, inplace=True)\n",
    "\n",
    "\n",
    "    def _encode_order(self):\n",
    "        \"\"\"\n",
    "        Метод, объединяющий все кодирования порядковых переменных.\n",
    "        \"\"\"\n",
    "\n",
    "        to_QC_encode = ['ExterQual', 'ExterCond', 'BsmtQual', 'BsmtCond',\n",
    "                    'HeatingQC', 'KitchenQual', 'FireplaceQu', 'GarageQual',\n",
    "                    'GarageCond']\n",
    "\n",
    "        self.data[to_QC_encode]       = self.data[to_QC_encode]\\\n",
    "                                        .applymap(self._QC_encoder)\n",
    "        self.data['BsmtExposure']     =  self.data['BsmtExposure']\\\n",
    "                                        .apply(self._encode_exposure)\n",
    "        self.data['GarageFinish']     =  self.data['GarageFinish']\\\n",
    "                                        .apply(self._encode_garage)\n",
    "\n",
    "\n",
    "\n",
    "    def _fill_missing(self):\n",
    "        \"\"\"\n",
    "        Метод, заменяющий пропуски в категориальных переменных на 'NO'\n",
    "        (отсутствие чего-либо) и в вещественных переменных на 0\n",
    "        (тоже встречается при отсутствии того или иного атрибута жилья).\n",
    "        \"\"\"\n",
    "\n",
    "        self.data[self.categorical] = self.data[self.categorical].fillna('NO')\n",
    "        self.data[self.numerical] = self.data[self.numerical].fillna(0)\n",
    "\n",
    "\n",
    "    def _drop_features(self):\n",
    "        \"\"\"\n",
    "        Удаление переменных, которые были признаны неважными в ходе EDA и\n",
    "        кросс-валидации.\n",
    "        \"\"\"\n",
    "\n",
    "        to_drop = ['PoolArea',\n",
    "                   'GarageCond',\n",
    "                   'MoSold',\n",
    "                   'YrSold',\n",
    "                   'GarageArea',\n",
    "                   'TotRmsAbvGrd',\n",
    "                   'MiscVal',\n",
    "                   'BsmtFinSF2',\n",
    "                   'Street',\n",
    "                   'Utilities',\n",
    "                   'RoofMatl',\n",
    "                   'Condition2',\n",
    "                   'Id',\n",
    "                   'LandSlope',\n",
    "                   'BsmtCond',\n",
    "                   ]\n",
    "\n",
    "        self.data.drop(to_drop, inplace=True, axis=1)\n",
    "\n",
    "    def _year_compare(self, row: pd.Series, value: str) -> int:\n",
    "        \"\"\"\n",
    "        Метод для бинаризации года постройки гаража/ремонта.\n",
    "\n",
    "        return: 1, если позже года основания дома, 0 в ином случае\n",
    "        \"\"\"\n",
    "\n",
    "        return int(row[value] > row.YearBuilt)\n",
    "\n",
    "\n",
    "    def _remod_bin(self, row: pd.Series) -> int:\n",
    "        \"\"\"\n",
    "        Метод для бинаризации года ремонта.\n",
    "\n",
    "        return: 1, если гараж построен не в тот же год, что и дом, 0 иначе\n",
    "        \"\"\"\n",
    "\n",
    "        return self._year_compare(row, 'YearRemodAdd')\n",
    "\n",
    "\n",
    "    def _garage_bin(self, row: pd.Series) -> int:\n",
    "        \"\"\"\n",
    "        Метод для бинаризации года ремонта.\n",
    "\n",
    "        return: 1, если ремонта не было (стоит тот же год, что и год постройки дома),\n",
    "        0 иначе\n",
    "        \"\"\"\n",
    "\n",
    "        return self._year_compare(row, 'GarageYrBlt')\n",
    "\n",
    "\n",
    "    def _binarize(self):\n",
    "        \"\"\"\n",
    "        Метод, объединяющий перевод некоторых переменных в двоичный вид.\n",
    "        \"\"\"\n",
    "\n",
    "        self.data[self.zero_threshold] =  self.data[self.zero_threshold]\\\n",
    "                                          .applymap(lambda x: int(x > 0))\n",
    "\n",
    "        self.data[self.one_threshold] =  self.data[self.one_threshold]\\\n",
    "                                          .apply(lambda x: int(x == 1))\n",
    "\n",
    "        self.data['Heating']         =  self.data['Heating']\\\n",
    "                                          .apply(lambda x: int(x == 'GasA'))\n",
    "\n",
    "        self.data['YearRemodAdd'] = self.data.apply(self._remod_bin, axis=1)\n",
    "        self.data['GarageYrBlt'] = self.data.apply(self._garage_bin, axis=1)\n",
    "\n",
    "\n",
    "    def _sum_FlrSf(self):\n",
    "        \"\"\"\n",
    "        Генерация признака, представляющего собой сумму площадей обоих этажей.\n",
    "        \"\"\"\n",
    "\n",
    "        self.data['SumFlrSf'] = self.data['2ndFlrSF'] + self.data['1stFlrSF']\n",
    "        self.data.drop(['2ndFlrSF', '1stFlrSF'], axis=1, inplace=True)\n",
    "\n",
    "\n",
    "    def preprocess(self, encode_categories: bool=False):\n",
    "        \"\"\"\n",
    "        Проведение этапов препроцессинга.\n",
    "\n",
    "        Если выборка обучающая, то из нее убираются выбросы.\n",
    "        \"\"\"\n",
    "\n",
    "        self._encode_order()\n",
    "        self._fill_missing()\n",
    "        self._binarize()\n",
    "        self._multilabel()\n",
    "        self._sum_FlrSf()\n",
    "\n",
    "        self._drop_features()\n",
    "        numbers = self.data.select_dtypes(exclude='object').columns\n",
    "        self.data[numbers] = self.data[numbers].astype(float)\n",
    "        if self.is_train:\n",
    "            self.data = self.data[self.data['LotArea'] < 50000]"
   ]
  },
  {
   "cell_type": "code",
   "execution_count": 105,
   "metadata": {
    "id": "EH8C6qNwB_xY"
   },
   "outputs": [],
   "source": [
    "df = Data(df_train)\n",
    "df.preprocess()\n",
    "\n",
    "train = df.data\n",
    "X = train.loc[:, train.columns != 'SalePrice']\n",
    "y = train.SalePrice\n",
    "\n",
    "test = Data(df_test, is_train=False)\n",
    "test.preprocess()\n",
    "\n",
    "test = test.data"
   ]
  },
  {
   "cell_type": "markdown",
   "metadata": {
    "id": "38FpRT6boqcE"
   },
   "source": [
    "###Обучение модели"
   ]
  },
  {
   "cell_type": "code",
   "execution_count": 6,
   "metadata": {
    "id": "pKWRJ5g9XssQ"
   },
   "outputs": [],
   "source": [
    "categorical_features_indices = np.where(X.dtypes != float)[0]"
   ]
  },
  {
   "cell_type": "code",
   "execution_count": 7,
   "metadata": {
    "id": "Aa8TyGHsU67i"
   },
   "outputs": [],
   "source": [
    "X_train, X_validation, y_train, y_validation = train_test_split(X, y, train_size=0.75, random_state=42)"
   ]
  },
  {
   "cell_type": "code",
   "execution_count": 8,
   "metadata": {
    "colab": {
     "base_uri": "https://localhost:8080/"
    },
    "id": "3KfDJKhdXGoD",
    "outputId": "23b40563-4d88-4b6b-d98a-f32164a56bbe"
   },
   "outputs": [
    {
     "name": "stdout",
     "output_type": "stream",
     "text": [
      "\u001b[2K     \u001b[90m━━━━━━━━━━━━━━━━━━━━━━━━━━━━━━━━━━━━━━━━\u001b[0m \u001b[32m98.7/98.7 MB\u001b[0m \u001b[31m6.9 MB/s\u001b[0m eta \u001b[36m0:00:00\u001b[0m\n",
      "\u001b[?25h"
     ]
    }
   ],
   "source": [
    "!pip install catboost -q"
   ]
  },
  {
   "cell_type": "code",
   "execution_count": 9,
   "metadata": {
    "id": "U-7Xtb3VW3eM"
   },
   "outputs": [],
   "source": [
    "from catboost import CatBoostRegressor, Pool, metrics, cv\n",
    "from sklearn.metrics import mean_squared_error as MSE"
   ]
  },
  {
   "cell_type": "code",
   "execution_count": 10,
   "metadata": {
    "id": "ZUFsYfDmXCpo"
   },
   "outputs": [],
   "source": [
    "model = CatBoostRegressor(\n",
    "    learning_rate=0.05,\n",
    "    iterations=2000,\n",
    "    max_depth=3,\n",
    "    subsample=0.2,\n",
    "    random_seed=42,\n",
    "    l2_leaf_reg=2.0,\n",
    "    logging_level='Silent'\n",
    ")\n",
    "\n",
    "#гиперпараметры подобраны при помощи кросс-валидации"
   ]
  },
  {
   "cell_type": "code",
   "execution_count": 11,
   "metadata": {
    "id": "iZsd9efv68_P"
   },
   "outputs": [],
   "source": [
    "cv_params = model.get_params()\n",
    "\n",
    "cv_data = cv(\n",
    "    Pool(X_train, y_train, cat_features=categorical_features_indices),\n",
    "    cv_params\n",
    ")\n"
   ]
  },
  {
   "cell_type": "code",
   "execution_count": 12,
   "metadata": {
    "colab": {
     "base_uri": "https://localhost:8080/"
    },
    "id": "uAcSIJJV8BJ8",
    "outputId": "3bf2c461-164d-4327-f99c-33bba2bed63f"
   },
   "outputs": [
    {
     "data": {
      "text/plain": [
       "1995    25876.411355\n",
       "1996    25876.050987\n",
       "1997    25878.089811\n",
       "1998    25877.315788\n",
       "1999    25877.474528\n",
       "Name: test-RMSE-mean, dtype: float64"
      ]
     },
     "execution_count": 12,
     "metadata": {},
     "output_type": "execute_result"
    }
   ],
   "source": [
    "cv_data['test-RMSE-mean'][1995:]"
   ]
  },
  {
   "cell_type": "code",
   "execution_count": null,
   "metadata": {
    "id": "mipBHLxfXWlh"
   },
   "outputs": [],
   "source": [
    "model.fit(X_train, y_train,\n",
    "          cat_features=categorical_features_indices,\n",
    "          eval_set=(X_validation, y_validation),\n",
    "          logging_level='Verbose')"
   ]
  },
  {
   "cell_type": "code",
   "execution_count": 14,
   "metadata": {
    "colab": {
     "base_uri": "https://localhost:8080/"
    },
    "id": "uBfx7V1jYMJi",
    "outputId": "97466bee-1392-4e3e-fe9d-8cd1fc53a5db"
   },
   "outputs": [
    {
     "data": {
      "text/plain": [
       "0.12123951170972502"
      ]
     },
     "execution_count": 14,
     "metadata": {},
     "output_type": "execute_result"
    }
   ],
   "source": [
    "def log_rmse(pred, test):\n",
    "    return MSE(np.log(1 + pred), np.log(1 + test), squared=False)\n",
    "\n",
    "\n",
    "log_rmse(model.predict(X_validation), y_validation)"
   ]
  },
  {
   "cell_type": "code",
   "execution_count": 15,
   "metadata": {
    "id": "7oQumFVAa7ia"
   },
   "outputs": [],
   "source": [
    "model.fit(X, y, cat_features=categorical_features_indices)\n",
    "\n",
    "pd.DataFrame({'Id': df_test.Id, 'SalePrice': model.predict(test)}).to_csv('submission.csv', index=False)"
   ]
  },
  {
   "cell_type": "code",
   "execution_count": 72,
   "metadata": {
    "id": "yFBd5pa5ZMRS"
   },
   "outputs": [],
   "source": [
    "from xgboost import XGBRegressor\n",
    "from sklearn.model_selection import GridSearchCV\n",
    "from sklearn.metrics import make_scorer"
   ]
  },
  {
   "cell_type": "code",
   "execution_count": 20,
   "metadata": {
    "id": "wMmUr0h8ml3K"
   },
   "outputs": [],
   "source": [
    "cats = X.select_dtypes(exclude='number').columns"
   ]
  },
  {
   "cell_type": "code",
   "execution_count": 106,
   "metadata": {
    "colab": {
     "base_uri": "https://localhost:8080/"
    },
    "id": "-Ich-WdsnNfM",
    "outputId": "c185740e-9f1c-43c6-ca88-82baff9640e1"
   },
   "outputs": [
    {
     "name": "stderr",
     "output_type": "stream",
     "text": [
      "<ipython-input-106-8a99c7992eea>:5: SettingWithCopyWarning: \n",
      "A value is trying to be set on a copy of a slice from a DataFrame.\n",
      "Try using .loc[row_indexer,col_indexer] = value instead\n",
      "\n",
      "See the caveats in the documentation: https://pandas.pydata.org/pandas-docs/stable/user_guide/indexing.html#returning-a-view-versus-a-copy\n",
      "  X[cats] = mean_encoder.transform(X[cats])\n"
     ]
    }
   ],
   "source": [
    "mean_encoder = TargetEncoder(cv=7, target_type='continuous')\n",
    "\n",
    "mean_encoder.fit(X[cats], y)\n",
    "\n",
    "X[cats] = mean_encoder.transform(X[cats])\n",
    "test[cats] = mean_encoder.transform(test[cats])"
   ]
  },
  {
   "cell_type": "code",
   "execution_count": 181,
   "metadata": {
    "colab": {
     "base_uri": "https://localhost:8080/",
     "height": 248
    },
    "id": "JIPHxzCY2QFP",
    "outputId": "48031516-f089-4ded-b2a5-2c21997404b7"
   },
   "outputs": [
    {
     "data": {
      "text/html": [
       "<style>#sk-container-id-23 {color: black;}#sk-container-id-23 pre{padding: 0;}#sk-container-id-23 div.sk-toggleable {background-color: white;}#sk-container-id-23 label.sk-toggleable__label {cursor: pointer;display: block;width: 100%;margin-bottom: 0;padding: 0.3em;box-sizing: border-box;text-align: center;}#sk-container-id-23 label.sk-toggleable__label-arrow:before {content: \"▸\";float: left;margin-right: 0.25em;color: #696969;}#sk-container-id-23 label.sk-toggleable__label-arrow:hover:before {color: black;}#sk-container-id-23 div.sk-estimator:hover label.sk-toggleable__label-arrow:before {color: black;}#sk-container-id-23 div.sk-toggleable__content {max-height: 0;max-width: 0;overflow: hidden;text-align: left;background-color: #f0f8ff;}#sk-container-id-23 div.sk-toggleable__content pre {margin: 0.2em;color: black;border-radius: 0.25em;background-color: #f0f8ff;}#sk-container-id-23 input.sk-toggleable__control:checked~div.sk-toggleable__content {max-height: 200px;max-width: 100%;overflow: auto;}#sk-container-id-23 input.sk-toggleable__control:checked~label.sk-toggleable__label-arrow:before {content: \"▾\";}#sk-container-id-23 div.sk-estimator input.sk-toggleable__control:checked~label.sk-toggleable__label {background-color: #d4ebff;}#sk-container-id-23 div.sk-label input.sk-toggleable__control:checked~label.sk-toggleable__label {background-color: #d4ebff;}#sk-container-id-23 input.sk-hidden--visually {border: 0;clip: rect(1px 1px 1px 1px);clip: rect(1px, 1px, 1px, 1px);height: 1px;margin: -1px;overflow: hidden;padding: 0;position: absolute;width: 1px;}#sk-container-id-23 div.sk-estimator {font-family: monospace;background-color: #f0f8ff;border: 1px dotted black;border-radius: 0.25em;box-sizing: border-box;margin-bottom: 0.5em;}#sk-container-id-23 div.sk-estimator:hover {background-color: #d4ebff;}#sk-container-id-23 div.sk-parallel-item::after {content: \"\";width: 100%;border-bottom: 1px solid gray;flex-grow: 1;}#sk-container-id-23 div.sk-label:hover label.sk-toggleable__label {background-color: #d4ebff;}#sk-container-id-23 div.sk-serial::before {content: \"\";position: absolute;border-left: 1px solid gray;box-sizing: border-box;top: 0;bottom: 0;left: 50%;z-index: 0;}#sk-container-id-23 div.sk-serial {display: flex;flex-direction: column;align-items: center;background-color: white;padding-right: 0.2em;padding-left: 0.2em;position: relative;}#sk-container-id-23 div.sk-item {position: relative;z-index: 1;}#sk-container-id-23 div.sk-parallel {display: flex;align-items: stretch;justify-content: center;background-color: white;position: relative;}#sk-container-id-23 div.sk-item::before, #sk-container-id-23 div.sk-parallel-item::before {content: \"\";position: absolute;border-left: 1px solid gray;box-sizing: border-box;top: 0;bottom: 0;left: 50%;z-index: -1;}#sk-container-id-23 div.sk-parallel-item {display: flex;flex-direction: column;z-index: 1;position: relative;background-color: white;}#sk-container-id-23 div.sk-parallel-item:first-child::after {align-self: flex-end;width: 50%;}#sk-container-id-23 div.sk-parallel-item:last-child::after {align-self: flex-start;width: 50%;}#sk-container-id-23 div.sk-parallel-item:only-child::after {width: 0;}#sk-container-id-23 div.sk-dashed-wrapped {border: 1px dashed gray;margin: 0 0.4em 0.5em 0.4em;box-sizing: border-box;padding-bottom: 0.4em;background-color: white;}#sk-container-id-23 div.sk-label label {font-family: monospace;font-weight: bold;display: inline-block;line-height: 1.2em;}#sk-container-id-23 div.sk-label-container {text-align: center;}#sk-container-id-23 div.sk-container {/* jupyter's `normalize.less` sets `[hidden] { display: none; }` but bootstrap.min.css set `[hidden] { display: none !important; }` so we also need the `!important` here to be able to override the default hidden behavior on the sphinx rendered scikit-learn.org. See: https://github.com/scikit-learn/scikit-learn/issues/21755 */display: inline-block !important;position: relative;}#sk-container-id-23 div.sk-text-repr-fallback {display: none;}</style><div id=\"sk-container-id-23\" class=\"sk-top-container\"><div class=\"sk-text-repr-fallback\"><pre>XGBRegressor(base_score=None, booster=None, callbacks=None,\n",
       "             colsample_bylevel=None, colsample_bynode=None,\n",
       "             colsample_bytree=None, early_stopping_rounds=None,\n",
       "             enable_categorical=False, eval_metric=None, feature_types=None,\n",
       "             gamma=None, gpu_id=None, grow_policy=None, importance_type=None,\n",
       "             interaction_constraints=None, learning_rate=0.0075, max_bin=None,\n",
       "             max_cat_threshold=None, max_cat_to_onehot=None,\n",
       "             max_delta_step=None, max_depth=4, max_leaves=None,\n",
       "             min_child_weight=None, missing=nan, monotone_constraints=None,\n",
       "             n_estimators=2000, n_jobs=None, num_parallel_tree=None,\n",
       "             predictor=None, random_state=None, ...)</pre><b>In a Jupyter environment, please rerun this cell to show the HTML representation or trust the notebook. <br />On GitHub, the HTML representation is unable to render, please try loading this page with nbviewer.org.</b></div><div class=\"sk-container\" hidden><div class=\"sk-item\"><div class=\"sk-estimator sk-toggleable\"><input class=\"sk-toggleable__control sk-hidden--visually\" id=\"sk-estimator-id-51\" type=\"checkbox\" checked><label for=\"sk-estimator-id-51\" class=\"sk-toggleable__label sk-toggleable__label-arrow\">XGBRegressor</label><div class=\"sk-toggleable__content\"><pre>XGBRegressor(base_score=None, booster=None, callbacks=None,\n",
       "             colsample_bylevel=None, colsample_bynode=None,\n",
       "             colsample_bytree=None, early_stopping_rounds=None,\n",
       "             enable_categorical=False, eval_metric=None, feature_types=None,\n",
       "             gamma=None, gpu_id=None, grow_policy=None, importance_type=None,\n",
       "             interaction_constraints=None, learning_rate=0.0075, max_bin=None,\n",
       "             max_cat_threshold=None, max_cat_to_onehot=None,\n",
       "             max_delta_step=None, max_depth=4, max_leaves=None,\n",
       "             min_child_weight=None, missing=nan, monotone_constraints=None,\n",
       "             n_estimators=2000, n_jobs=None, num_parallel_tree=None,\n",
       "             predictor=None, random_state=None, ...)</pre></div></div></div></div></div>"
      ],
      "text/plain": [
       "XGBRegressor(base_score=None, booster=None, callbacks=None,\n",
       "             colsample_bylevel=None, colsample_bynode=None,\n",
       "             colsample_bytree=None, early_stopping_rounds=None,\n",
       "             enable_categorical=False, eval_metric=None, feature_types=None,\n",
       "             gamma=None, gpu_id=None, grow_policy=None, importance_type=None,\n",
       "             interaction_constraints=None, learning_rate=0.0075, max_bin=None,\n",
       "             max_cat_threshold=None, max_cat_to_onehot=None,\n",
       "             max_delta_step=None, max_depth=4, max_leaves=None,\n",
       "             min_child_weight=None, missing=nan, monotone_constraints=None,\n",
       "             n_estimators=2000, n_jobs=None, num_parallel_tree=None,\n",
       "             predictor=None, random_state=None, ...)"
      ]
     },
     "execution_count": 181,
     "metadata": {},
     "output_type": "execute_result"
    }
   ],
   "source": [
    "xgb_regressor = XGBRegressor(n_estimators=2000,\n",
    "                             subsample=0.15,\n",
    "                             max_depth=4,\n",
    "                             learning_rate=7.5e-3,\n",
    "                             reg_lambda=10)\n",
    "\n",
    "#гиперпараметры подобраны при помощи кросс-валидации\n",
    "\n",
    "xgb_regressor.fit(X, y)"
   ]
  },
  {
   "cell_type": "code",
   "execution_count": 182,
   "metadata": {
    "id": "lZLbM7QgoSGY"
   },
   "outputs": [],
   "source": [
    "pd.DataFrame({'Id': df_test.Id, 'SalePrice': xgb_regressor.predict(test)}).to_csv('submission.csv', index=False)"
   ]
  }
 ],
 "metadata": {
  "colab": {
   "provenance": []
  },
  "kernelspec": {
   "display_name": "Python 3 (ipykernel)",
   "language": "python",
   "name": "python3"
  },
  "language_info": {
   "codemirror_mode": {
    "name": "ipython",
    "version": 3
   },
   "file_extension": ".py",
   "mimetype": "text/x-python",
   "name": "python",
   "nbconvert_exporter": "python",
   "pygments_lexer": "ipython3",
   "version": "3.10.9"
  }
 },
 "nbformat": 4,
 "nbformat_minor": 1
}
